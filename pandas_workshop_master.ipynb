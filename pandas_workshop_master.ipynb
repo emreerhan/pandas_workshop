{
 "cells": [
  {
   "cell_type": "markdown",
   "metadata": {},
   "source": [
    "# Pandas SciProg Workshop"
   ]
  },
  {
   "cell_type": "markdown",
   "metadata": {},
   "source": [
    "## For reference:"
   ]
  },
  {
   "cell_type": "markdown",
   "metadata": {},
   "source": [
    "https://github.com/jakevdp/PythonDataScienceHandbook - Data Science textbook all in iPython notebooks; much of the text borrowed from here\n",
    "\n",
    "Extremely useful, and completely free. Great for beginners.\n"
   ]
  },
  {
   "cell_type": "markdown",
   "metadata": {},
   "source": [
    "## Pandas"
   ]
  },
  {
   "cell_type": "markdown",
   "metadata": {},
   "source": [
    "Pandas is a newer package built on top of NumPy, a powerful N-dimensional array object, and provides an efficient implementation of a ``DataFrame``.\n",
    "``DataFrame``s are essentially multidimensional arrays with attached row and column labels, and often with heterogeneous types and/or missing data.\n",
    "As well as offering a convenient storage interface for labeled data, Pandas implements a number of powerful data operations familiar to users of both database frameworks and spreadsheet programs.\n",
    "\n",
    "NumPy's ``ndarray`` data structure provides essential features for the type of clean, well-organized data typically seen in numerical computing tasks.\n",
    "While it serves this purpose very well, its limitations become clear when we need more flexibility (e.g., attaching labels to data, working with missing data, etc.) and when attempting operations that do not map well to element-wise broadcasting (e.g., groupings, pivots, etc.), each of which is an important piece of analyzing the less structured data available in many forms in the world around us.\n",
    "Pandas, and in particular its ``Series`` and ``DataFrame`` objects, builds on the NumPy array structure and provides efficient access to these sorts of \"data munging\" tasks that occupy much of a data scientist's time."
   ]
  },
  {
   "cell_type": "code",
   "execution_count": 1,
   "metadata": {
    "collapsed": true
   },
   "outputs": [],
   "source": [
    "import pandas as pd # Pandas!\n",
    "import numpy as np # NumPy!"
   ]
  },
  {
   "cell_type": "markdown",
   "metadata": {},
   "source": [
    "## The Pandas ``DataFrame``\n",
    "\n",
    "The fundamental structure in Pandas is the ``DataFrame``. The ``DataFrame`` can be thought of either as a generalization of a NumPy array, or as a specialization of a Python dictionary."
   ]
  },
  {
   "cell_type": "code",
   "execution_count": 2,
   "metadata": {
    "collapsed": false
   },
   "outputs": [
    {
     "data": {
      "text/html": [
       "<div>\n",
       "<table border=\"1\" class=\"dataframe\">\n",
       "  <thead>\n",
       "    <tr style=\"text-align: right;\">\n",
       "      <th></th>\n",
       "      <th>a</th>\n",
       "      <th>b</th>\n",
       "      <th>c</th>\n",
       "    </tr>\n",
       "  </thead>\n",
       "  <tbody>\n",
       "    <tr>\n",
       "      <th>0</th>\n",
       "      <td>1</td>\n",
       "      <td>2</td>\n",
       "      <td>4</td>\n",
       "    </tr>\n",
       "    <tr>\n",
       "      <th>1</th>\n",
       "      <td>2</td>\n",
       "      <td>3</td>\n",
       "      <td>5</td>\n",
       "    </tr>\n",
       "    <tr>\n",
       "      <th>2</th>\n",
       "      <td>3</td>\n",
       "      <td>4</td>\n",
       "      <td>6</td>\n",
       "    </tr>\n",
       "  </tbody>\n",
       "</table>\n",
       "</div>"
      ],
      "text/plain": [
       "   a  b  c\n",
       "0  1  2  4\n",
       "1  2  3  5\n",
       "2  3  4  6"
      ]
     },
     "execution_count": 2,
     "metadata": {},
     "output_type": "execute_result"
    }
   ],
   "source": [
    "data1 = pd.DataFrame({'a': [1,2,3],\n",
    "                      'b': [2,3,4],\n",
    "                      'c': [4,5,6]})# Fill in here\n",
    "data1"
   ]
  },
  {
   "cell_type": "code",
   "execution_count": 3,
   "metadata": {
    "collapsed": false
   },
   "outputs": [
    {
     "data": {
      "text/html": [
       "<div>\n",
       "<table border=\"1\" class=\"dataframe\">\n",
       "  <thead>\n",
       "    <tr style=\"text-align: right;\">\n",
       "      <th></th>\n",
       "      <th>a</th>\n",
       "      <th>b</th>\n",
       "      <th>c</th>\n",
       "    </tr>\n",
       "  </thead>\n",
       "  <tbody>\n",
       "    <tr>\n",
       "      <th>0</th>\n",
       "      <td>1</td>\n",
       "      <td>2</td>\n",
       "      <td>4</td>\n",
       "    </tr>\n",
       "    <tr>\n",
       "      <th>1</th>\n",
       "      <td>2</td>\n",
       "      <td>3</td>\n",
       "      <td>5</td>\n",
       "    </tr>\n",
       "    <tr>\n",
       "      <th>2</th>\n",
       "      <td>3</td>\n",
       "      <td>5</td>\n",
       "      <td>6</td>\n",
       "    </tr>\n",
       "  </tbody>\n",
       "</table>\n",
       "</div>"
      ],
      "text/plain": [
       "   a  b  c\n",
       "0  1  2  4\n",
       "1  2  3  5\n",
       "2  3  5  6"
      ]
     },
     "execution_count": 3,
     "metadata": {},
     "output_type": "execute_result"
    }
   ],
   "source": [
    "data2 = pd.DataFrame([{'a': 1, 'b': 2, 'c': 4},\n",
    "                      {'a': 2, 'b': 3, 'c': 5},\n",
    "                      {'a': 3, 'b': 5, 'c': 6}])\n",
    "data2"
   ]
  },
  {
   "cell_type": "markdown",
   "metadata": {},
   "source": [
    "## The ``Series`` object\n",
    "Each column of the ``DataFrame`` corresponds to a ``Series`` object.\n",
    "\n",
    "The ``Series`` object is basically interchangeable with a one-dimensional NumPy array.\n",
    "The essential difference is the presence of the index: while the Numpy Array has an *implicitly defined* integer index used to access the values, the Pandas ``Series`` has an *explicitly defined* index associated with the values."
   ]
  },
  {
   "cell_type": "code",
   "execution_count": 4,
   "metadata": {
    "collapsed": false
   },
   "outputs": [
    {
     "data": {
      "text/plain": [
       "0    1\n",
       "1    2\n",
       "2    3\n",
       "Name: a, dtype: int64"
      ]
     },
     "execution_count": 4,
     "metadata": {},
     "output_type": "execute_result"
    }
   ],
   "source": [
    "data1['a']"
   ]
  },
  {
   "cell_type": "code",
   "execution_count": 5,
   "metadata": {
    "collapsed": false
   },
   "outputs": [
    {
     "data": {
      "text/plain": [
       "0    1\n",
       "1    2\n",
       "2    3\n",
       "Name: a, dtype: int64"
      ]
     },
     "execution_count": 5,
     "metadata": {},
     "output_type": "execute_result"
    }
   ],
   "source": [
    "data1.a"
   ]
  },
  {
   "cell_type": "code",
   "execution_count": 6,
   "metadata": {
    "collapsed": false
   },
   "outputs": [
    {
     "data": {
      "text/plain": [
       "array([1, 2, 3])"
      ]
     },
     "execution_count": 6,
     "metadata": {},
     "output_type": "execute_result"
    }
   ],
   "source": [
    "data1['a'].values"
   ]
  },
  {
   "cell_type": "code",
   "execution_count": 7,
   "metadata": {
    "collapsed": false
   },
   "outputs": [],
   "source": [
    "data1['a'].index = ['First', 'Second', 'Third']"
   ]
  },
  {
   "cell_type": "code",
   "execution_count": 8,
   "metadata": {
    "collapsed": false
   },
   "outputs": [
    {
     "data": {
      "text/plain": [
       "First     1\n",
       "Second    2\n",
       "Third     3\n",
       "Name: a, dtype: int64"
      ]
     },
     "execution_count": 8,
     "metadata": {},
     "output_type": "execute_result"
    }
   ],
   "source": [
    "data1['a']"
   ]
  },
  {
   "cell_type": "markdown",
   "metadata": {},
   "source": [
    "In practice, ``DataFrames`` are usually created from tabulated data. In this case, let's read some normalized transcriptomic data from TCGA. Each file is compressed using gzip and is tab delimited."
   ]
  },
  {
   "cell_type": "code",
   "execution_count": 9,
   "metadata": {
    "collapsed": false
   },
   "outputs": [
    {
     "data": {
      "text/html": [
       "<div>\n",
       "<table border=\"1\" class=\"dataframe\">\n",
       "  <thead>\n",
       "    <tr style=\"text-align: right;\">\n",
       "      <th></th>\n",
       "      <th>PTEN</th>\n",
       "      <th>BRCA1</th>\n",
       "      <th>BRCA2</th>\n",
       "      <th>TP53</th>\n",
       "      <th>cancer_type</th>\n",
       "    </tr>\n",
       "  </thead>\n",
       "  <tbody>\n",
       "    <tr>\n",
       "      <th>TCGA-S9-A7J2-01</th>\n",
       "      <td>10.2998</td>\n",
       "      <td>7.4010</td>\n",
       "      <td>4.7902</td>\n",
       "      <td>10.4938</td>\n",
       "      <td>Brain Lower Grade Glioma</td>\n",
       "    </tr>\n",
       "    <tr>\n",
       "      <th>TCGA-G3-A3CH-11</th>\n",
       "      <td>11.3833</td>\n",
       "      <td>7.6912</td>\n",
       "      <td>4.7393</td>\n",
       "      <td>9.0602</td>\n",
       "      <td>Liver hepatocellular carcinoma</td>\n",
       "    </tr>\n",
       "    <tr>\n",
       "      <th>TCGA-EK-A2RE-01</th>\n",
       "      <td>11.0820</td>\n",
       "      <td>9.6598</td>\n",
       "      <td>7.1897</td>\n",
       "      <td>10.1316</td>\n",
       "      <td>Cervical squamous cell carcinoma and endocervi...</td>\n",
       "    </tr>\n",
       "    <tr>\n",
       "      <th>TCGA-44-6778-01</th>\n",
       "      <td>10.6484</td>\n",
       "      <td>8.7113</td>\n",
       "      <td>7.4553</td>\n",
       "      <td>10.4169</td>\n",
       "      <td>Lung adenocarcinoma</td>\n",
       "    </tr>\n",
       "    <tr>\n",
       "      <th>TCGA-VM-A8C8-01</th>\n",
       "      <td>10.3577</td>\n",
       "      <td>7.1310</td>\n",
       "      <td>3.8055</td>\n",
       "      <td>9.6591</td>\n",
       "      <td>Brain Lower Grade Glioma</td>\n",
       "    </tr>\n",
       "    <tr>\n",
       "      <th>TCGA-AB-2863-03</th>\n",
       "      <td>11.6441</td>\n",
       "      <td>11.3340</td>\n",
       "      <td>11.0614</td>\n",
       "      <td>10.9526</td>\n",
       "      <td>Acute Myeloid Leukemia</td>\n",
       "    </tr>\n",
       "    <tr>\n",
       "      <th>TCGA-C8-A1HL-01</th>\n",
       "      <td>11.5515</td>\n",
       "      <td>8.2087</td>\n",
       "      <td>7.3946</td>\n",
       "      <td>10.8971</td>\n",
       "      <td>Breast invasive carcinoma</td>\n",
       "    </tr>\n",
       "    <tr>\n",
       "      <th>TCGA-EE-A17X-06</th>\n",
       "      <td>9.4834</td>\n",
       "      <td>9.4479</td>\n",
       "      <td>7.0443</td>\n",
       "      <td>11.1922</td>\n",
       "      <td>Skin Cutaneous Melanoma</td>\n",
       "    </tr>\n",
       "    <tr>\n",
       "      <th>TCGA-YB-A89D-11</th>\n",
       "      <td>11.3773</td>\n",
       "      <td>6.6231</td>\n",
       "      <td>5.2721</td>\n",
       "      <td>9.8334</td>\n",
       "      <td>Pancreatic adenocarcinoma</td>\n",
       "    </tr>\n",
       "    <tr>\n",
       "      <th>TCGA-05-4420-01</th>\n",
       "      <td>10.1536</td>\n",
       "      <td>8.0003</td>\n",
       "      <td>7.8686</td>\n",
       "      <td>10.1576</td>\n",
       "      <td>Lung adenocarcinoma</td>\n",
       "    </tr>\n",
       "  </tbody>\n",
       "</table>\n",
       "</div>"
      ],
      "text/plain": [
       "                    PTEN    BRCA1    BRCA2     TP53  \\\n",
       "TCGA-S9-A7J2-01  10.2998   7.4010   4.7902  10.4938   \n",
       "TCGA-G3-A3CH-11  11.3833   7.6912   4.7393   9.0602   \n",
       "TCGA-EK-A2RE-01  11.0820   9.6598   7.1897  10.1316   \n",
       "TCGA-44-6778-01  10.6484   8.7113   7.4553  10.4169   \n",
       "TCGA-VM-A8C8-01  10.3577   7.1310   3.8055   9.6591   \n",
       "TCGA-AB-2863-03  11.6441  11.3340  11.0614  10.9526   \n",
       "TCGA-C8-A1HL-01  11.5515   8.2087   7.3946  10.8971   \n",
       "TCGA-EE-A17X-06   9.4834   9.4479   7.0443  11.1922   \n",
       "TCGA-YB-A89D-11  11.3773   6.6231   5.2721   9.8334   \n",
       "TCGA-05-4420-01  10.1536   8.0003   7.8686  10.1576   \n",
       "\n",
       "                                                       cancer_type  \n",
       "TCGA-S9-A7J2-01                           Brain Lower Grade Glioma  \n",
       "TCGA-G3-A3CH-11                     Liver hepatocellular carcinoma  \n",
       "TCGA-EK-A2RE-01  Cervical squamous cell carcinoma and endocervi...  \n",
       "TCGA-44-6778-01                                Lung adenocarcinoma  \n",
       "TCGA-VM-A8C8-01                           Brain Lower Grade Glioma  \n",
       "TCGA-AB-2863-03                             Acute Myeloid Leukemia  \n",
       "TCGA-C8-A1HL-01                          Breast invasive carcinoma  \n",
       "TCGA-EE-A17X-06                            Skin Cutaneous Melanoma  \n",
       "TCGA-YB-A89D-11                          Pancreatic adenocarcinoma  \n",
       "TCGA-05-4420-01                                Lung adenocarcinoma  "
      ]
     },
     "execution_count": 9,
     "metadata": {},
     "output_type": "execute_result"
    }
   ],
   "source": [
    "cancer_data = pd.read_csv('TCGA_sample.tsv.gz', compression='gzip', sep='\\t', index_col=0)\n",
    "cancer_data"
   ]
  },
  {
   "cell_type": "markdown",
   "metadata": {},
   "source": [
    "## Indexing and Selecting Data"
   ]
  },
  {
   "cell_type": "markdown",
   "metadata": {},
   "source": [
    "### Indexers: loc, iloc, and ix\n",
    "\n",
    "``loc``: Selection By Label\n",
    "\n",
    "``iloc``: Selection By Position (more pythonic)\n",
    "\n",
    "``ix``: Label-based, but falls back to position-based if label doesn't exist. Good for mixed data."
   ]
  },
  {
   "cell_type": "code",
   "execution_count": 10,
   "metadata": {
    "collapsed": false
   },
   "outputs": [
    {
     "data": {
      "text/html": [
       "<div>\n",
       "<table border=\"1\" class=\"dataframe\">\n",
       "  <thead>\n",
       "    <tr style=\"text-align: right;\">\n",
       "      <th></th>\n",
       "      <th>PTEN</th>\n",
       "      <th>BRCA1</th>\n",
       "    </tr>\n",
       "  </thead>\n",
       "  <tbody>\n",
       "    <tr>\n",
       "      <th>TCGA-S9-A7J2-01</th>\n",
       "      <td>10.2998</td>\n",
       "      <td>7.4010</td>\n",
       "    </tr>\n",
       "    <tr>\n",
       "      <th>TCGA-G3-A3CH-11</th>\n",
       "      <td>11.3833</td>\n",
       "      <td>7.6912</td>\n",
       "    </tr>\n",
       "    <tr>\n",
       "      <th>TCGA-EK-A2RE-01</th>\n",
       "      <td>11.0820</td>\n",
       "      <td>9.6598</td>\n",
       "    </tr>\n",
       "    <tr>\n",
       "      <th>TCGA-44-6778-01</th>\n",
       "      <td>10.6484</td>\n",
       "      <td>8.7113</td>\n",
       "    </tr>\n",
       "    <tr>\n",
       "      <th>TCGA-VM-A8C8-01</th>\n",
       "      <td>10.3577</td>\n",
       "      <td>7.1310</td>\n",
       "    </tr>\n",
       "    <tr>\n",
       "      <th>TCGA-AB-2863-03</th>\n",
       "      <td>11.6441</td>\n",
       "      <td>11.3340</td>\n",
       "    </tr>\n",
       "    <tr>\n",
       "      <th>TCGA-C8-A1HL-01</th>\n",
       "      <td>11.5515</td>\n",
       "      <td>8.2087</td>\n",
       "    </tr>\n",
       "    <tr>\n",
       "      <th>TCGA-EE-A17X-06</th>\n",
       "      <td>9.4834</td>\n",
       "      <td>9.4479</td>\n",
       "    </tr>\n",
       "  </tbody>\n",
       "</table>\n",
       "</div>"
      ],
      "text/plain": [
       "                    PTEN    BRCA1\n",
       "TCGA-S9-A7J2-01  10.2998   7.4010\n",
       "TCGA-G3-A3CH-11  11.3833   7.6912\n",
       "TCGA-EK-A2RE-01  11.0820   9.6598\n",
       "TCGA-44-6778-01  10.6484   8.7113\n",
       "TCGA-VM-A8C8-01  10.3577   7.1310\n",
       "TCGA-AB-2863-03  11.6441  11.3340\n",
       "TCGA-C8-A1HL-01  11.5515   8.2087\n",
       "TCGA-EE-A17X-06   9.4834   9.4479"
      ]
     },
     "execution_count": 10,
     "metadata": {},
     "output_type": "execute_result"
    }
   ],
   "source": [
    "# Examples\n",
    "# Note: loc is indexed at 1, whereas iloc is indexed at 0\n",
    "cancer_data.loc['TCGA-S9-A7J2-01':'TCGA-EE-A17X-06', ['PTEN', 'BRCA1']]"
   ]
  },
  {
   "cell_type": "code",
   "execution_count": 11,
   "metadata": {
    "collapsed": false
   },
   "outputs": [
    {
     "data": {
      "text/html": [
       "<div>\n",
       "<table border=\"1\" class=\"dataframe\">\n",
       "  <thead>\n",
       "    <tr style=\"text-align: right;\">\n",
       "      <th></th>\n",
       "      <th>PTEN</th>\n",
       "      <th>BRCA1</th>\n",
       "    </tr>\n",
       "  </thead>\n",
       "  <tbody>\n",
       "    <tr>\n",
       "      <th>TCGA-G3-A3CH-11</th>\n",
       "      <td>11.3833</td>\n",
       "      <td>7.6912</td>\n",
       "    </tr>\n",
       "    <tr>\n",
       "      <th>TCGA-C8-A1HL-01</th>\n",
       "      <td>11.5515</td>\n",
       "      <td>8.2087</td>\n",
       "    </tr>\n",
       "  </tbody>\n",
       "</table>\n",
       "</div>"
      ],
      "text/plain": [
       "                    PTEN   BRCA1\n",
       "TCGA-G3-A3CH-11  11.3833  7.6912\n",
       "TCGA-C8-A1HL-01  11.5515  8.2087"
      ]
     },
     "execution_count": 11,
     "metadata": {},
     "output_type": "execute_result"
    }
   ],
   "source": [
    "cancer_data.iloc[1:10:5, 0:2]"
   ]
  },
  {
   "cell_type": "code",
   "execution_count": 12,
   "metadata": {
    "collapsed": false
   },
   "outputs": [
    {
     "data": {
      "text/html": [
       "<div>\n",
       "<table border=\"1\" class=\"dataframe\">\n",
       "  <thead>\n",
       "    <tr style=\"text-align: right;\">\n",
       "      <th></th>\n",
       "      <th>PTEN</th>\n",
       "      <th>BRCA1</th>\n",
       "      <th>BRCA2</th>\n",
       "    </tr>\n",
       "  </thead>\n",
       "  <tbody>\n",
       "    <tr>\n",
       "      <th>TCGA-44-6778-01</th>\n",
       "      <td>10.6484</td>\n",
       "      <td>8.7113</td>\n",
       "      <td>7.4553</td>\n",
       "    </tr>\n",
       "    <tr>\n",
       "      <th>TCGA-VM-A8C8-01</th>\n",
       "      <td>10.3577</td>\n",
       "      <td>7.1310</td>\n",
       "      <td>3.8055</td>\n",
       "    </tr>\n",
       "  </tbody>\n",
       "</table>\n",
       "</div>"
      ],
      "text/plain": [
       "                    PTEN   BRCA1   BRCA2\n",
       "TCGA-44-6778-01  10.6484  8.7113  7.4553\n",
       "TCGA-VM-A8C8-01  10.3577  7.1310  3.8055"
      ]
     },
     "execution_count": 12,
     "metadata": {},
     "output_type": "execute_result"
    }
   ],
   "source": [
    "cancer_data.ix[3:5, 'PTEN': 'BRCA2']"
   ]
  },
  {
   "cell_type": "markdown",
   "metadata": {},
   "source": [
    "Similar to ``NumPy`` arrays, vector calculations can be done on ``Series`` objects. Try finding the sum of gene expression values for the ``BRCA1`` and ``BRCA2`` genes for each patient."
   ]
  },
  {
   "cell_type": "code",
   "execution_count": 13,
   "metadata": {
    "collapsed": false
   },
   "outputs": [
    {
     "data": {
      "text/plain": [
       "TCGA-S9-A7J2-01    12.1912\n",
       "TCGA-G3-A3CH-11    12.4305\n",
       "TCGA-EK-A2RE-01    16.8495\n",
       "TCGA-44-6778-01    16.1666\n",
       "TCGA-VM-A8C8-01    10.9365\n",
       "TCGA-AB-2863-03    22.3954\n",
       "TCGA-C8-A1HL-01    15.6033\n",
       "TCGA-EE-A17X-06    16.4922\n",
       "TCGA-YB-A89D-11    11.8952\n",
       "TCGA-05-4420-01    15.8689\n",
       "dtype: float64"
      ]
     },
     "execution_count": 13,
     "metadata": {},
     "output_type": "execute_result"
    }
   ],
   "source": [
    "cancer_data['BRCA1'] + cancer_data['BRCA2']"
   ]
  },
  {
   "cell_type": "markdown",
   "metadata": {},
   "source": [
    "## Your turn\n",
    "\n",
    "1) Try to find out whether the first half of patients have greater PTEN expression or the last half (Hint: np.sum()).\n",
    "\n",
    "2) Despite it not making sense to do so, try adding expression values of the BRCA genes for every other patient.\n",
    "\n",
    "3) Other suggestions?"
   ]
  },
  {
   "cell_type": "code",
   "execution_count": 21,
   "metadata": {
    "collapsed": false
   },
   "outputs": [
    {
     "data": {
      "text/plain": [
       "True"
      ]
     },
     "execution_count": 21,
     "metadata": {},
     "output_type": "execute_result"
    }
   ],
   "source": [
    "# 1\n",
    "first_half = cancer_data.ix[0:5, 'PTEN']\n",
    "second_half = cancer_data.ix[6:10, 'PTEN']\n",
    "np.sum(first_half) > np.sum(second_half)"
   ]
  },
  {
   "cell_type": "code",
   "execution_count": 15,
   "metadata": {
    "collapsed": false
   },
   "outputs": [
    {
     "data": {
      "text/plain": [
       "TCGA-S9-A7J2-01    12.1912\n",
       "TCGA-EK-A2RE-01    16.8495\n",
       "TCGA-VM-A8C8-01    10.9365\n",
       "TCGA-C8-A1HL-01    15.6033\n",
       "TCGA-YB-A89D-11    11.8952\n",
       "dtype: float64"
      ]
     },
     "execution_count": 15,
     "metadata": {},
     "output_type": "execute_result"
    }
   ],
   "source": [
    "# 2\n",
    "cancer_data.loc[::2, 'BRCA1'] + cancer_data.loc[::2, 'BRCA2']"
   ]
  },
  {
   "cell_type": "markdown",
   "metadata": {},
   "source": [
    "## Masking\n",
    "\n",
    "You can use an array of ``True`` or ``False`` values to mask values that you do not want to see. For example, what if we're only interested in patients whose ``BRCA1`` expression exceeds 8."
   ]
  },
  {
   "cell_type": "code",
   "execution_count": 23,
   "metadata": {
    "collapsed": false
   },
   "outputs": [
    {
     "data": {
      "text/plain": [
       "TCGA-S9-A7J2-01    False\n",
       "TCGA-G3-A3CH-11    False\n",
       "TCGA-EK-A2RE-01     True\n",
       "TCGA-44-6778-01     True\n",
       "TCGA-VM-A8C8-01    False\n",
       "TCGA-AB-2863-03     True\n",
       "TCGA-C8-A1HL-01     True\n",
       "TCGA-EE-A17X-06     True\n",
       "TCGA-YB-A89D-11    False\n",
       "TCGA-05-4420-01     True\n",
       "Name: BRCA1, dtype: bool"
      ]
     },
     "execution_count": 23,
     "metadata": {},
     "output_type": "execute_result"
    }
   ],
   "source": [
    "cancer_data['BRCA1'] > 8"
   ]
  },
  {
   "cell_type": "code",
   "execution_count": 24,
   "metadata": {
    "collapsed": false
   },
   "outputs": [
    {
     "data": {
      "text/html": [
       "<div>\n",
       "<table border=\"1\" class=\"dataframe\">\n",
       "  <thead>\n",
       "    <tr style=\"text-align: right;\">\n",
       "      <th></th>\n",
       "      <th>PTEN</th>\n",
       "      <th>BRCA1</th>\n",
       "      <th>BRCA2</th>\n",
       "      <th>TP53</th>\n",
       "      <th>cancer_type</th>\n",
       "    </tr>\n",
       "  </thead>\n",
       "  <tbody>\n",
       "    <tr>\n",
       "      <th>TCGA-EK-A2RE-01</th>\n",
       "      <td>11.0820</td>\n",
       "      <td>9.6598</td>\n",
       "      <td>7.1897</td>\n",
       "      <td>10.1316</td>\n",
       "      <td>Cervical squamous cell carcinoma and endocervi...</td>\n",
       "    </tr>\n",
       "    <tr>\n",
       "      <th>TCGA-44-6778-01</th>\n",
       "      <td>10.6484</td>\n",
       "      <td>8.7113</td>\n",
       "      <td>7.4553</td>\n",
       "      <td>10.4169</td>\n",
       "      <td>Lung adenocarcinoma</td>\n",
       "    </tr>\n",
       "    <tr>\n",
       "      <th>TCGA-AB-2863-03</th>\n",
       "      <td>11.6441</td>\n",
       "      <td>11.3340</td>\n",
       "      <td>11.0614</td>\n",
       "      <td>10.9526</td>\n",
       "      <td>Acute Myeloid Leukemia</td>\n",
       "    </tr>\n",
       "    <tr>\n",
       "      <th>TCGA-C8-A1HL-01</th>\n",
       "      <td>11.5515</td>\n",
       "      <td>8.2087</td>\n",
       "      <td>7.3946</td>\n",
       "      <td>10.8971</td>\n",
       "      <td>Breast invasive carcinoma</td>\n",
       "    </tr>\n",
       "    <tr>\n",
       "      <th>TCGA-EE-A17X-06</th>\n",
       "      <td>9.4834</td>\n",
       "      <td>9.4479</td>\n",
       "      <td>7.0443</td>\n",
       "      <td>11.1922</td>\n",
       "      <td>Skin Cutaneous Melanoma</td>\n",
       "    </tr>\n",
       "    <tr>\n",
       "      <th>TCGA-05-4420-01</th>\n",
       "      <td>10.1536</td>\n",
       "      <td>8.0003</td>\n",
       "      <td>7.8686</td>\n",
       "      <td>10.1576</td>\n",
       "      <td>Lung adenocarcinoma</td>\n",
       "    </tr>\n",
       "  </tbody>\n",
       "</table>\n",
       "</div>"
      ],
      "text/plain": [
       "                    PTEN    BRCA1    BRCA2     TP53  \\\n",
       "TCGA-EK-A2RE-01  11.0820   9.6598   7.1897  10.1316   \n",
       "TCGA-44-6778-01  10.6484   8.7113   7.4553  10.4169   \n",
       "TCGA-AB-2863-03  11.6441  11.3340  11.0614  10.9526   \n",
       "TCGA-C8-A1HL-01  11.5515   8.2087   7.3946  10.8971   \n",
       "TCGA-EE-A17X-06   9.4834   9.4479   7.0443  11.1922   \n",
       "TCGA-05-4420-01  10.1536   8.0003   7.8686  10.1576   \n",
       "\n",
       "                                                       cancer_type  \n",
       "TCGA-EK-A2RE-01  Cervical squamous cell carcinoma and endocervi...  \n",
       "TCGA-44-6778-01                                Lung adenocarcinoma  \n",
       "TCGA-AB-2863-03                             Acute Myeloid Leukemia  \n",
       "TCGA-C8-A1HL-01                          Breast invasive carcinoma  \n",
       "TCGA-EE-A17X-06                            Skin Cutaneous Melanoma  \n",
       "TCGA-05-4420-01                                Lung adenocarcinoma  "
      ]
     },
     "execution_count": 24,
     "metadata": {},
     "output_type": "execute_result"
    }
   ],
   "source": [
    "cancer_data[cancer_data['BRCA1'] > 8]"
   ]
  },
  {
   "cell_type": "markdown",
   "metadata": {},
   "source": [
    "### All NumPy functions can be used on Pandas Series, including ufuncs (vectorized functions)\n",
    "https://docs.scipy.org/doc/numpy-1.13.0/reference/ufuncs.html"
   ]
  },
  {
   "cell_type": "markdown",
   "metadata": {},
   "source": [
    "## Using DataFrame.apply()\n",
    "http://pandas.pydata.org/pandas-docs/stable/generated/pandas.DataFrame.apply.html\n",
    "\n",
    "Let's find the mean expression for each gene.\n",
    "\n",
    "For the programmers: Do not use for-loops\n",
    "\n",
    "http://stupidpythonideas.blogspot.ca/2015/09/going-faster-with-numpy.html"
   ]
  },
  {
   "cell_type": "code",
   "execution_count": 16,
   "metadata": {
    "collapsed": false
   },
   "outputs": [],
   "source": [
    "numerical_cancer = cancer_data.loc[:, 'PTEN': 'TP53']"
   ]
  },
  {
   "cell_type": "code",
   "execution_count": 17,
   "metadata": {
    "collapsed": false
   },
   "outputs": [
    {
     "data": {
      "text/plain": [
       "PTEN     10.79811\n",
       "BRCA1     8.42083\n",
       "BRCA2     6.66210\n",
       "TP53     10.27945\n",
       "dtype: float64"
      ]
     },
     "execution_count": 17,
     "metadata": {},
     "output_type": "execute_result"
    }
   ],
   "source": [
    "numerical_cancer.apply(np.mean, axis=0)"
   ]
  },
  {
   "cell_type": "markdown",
   "metadata": {},
   "source": [
    "What about the sum of gene expression across each patient?"
   ]
  },
  {
   "cell_type": "code",
   "execution_count": 18,
   "metadata": {
    "collapsed": false
   },
   "outputs": [
    {
     "data": {
      "text/plain": [
       "TCGA-S9-A7J2-01    32.9848\n",
       "TCGA-G3-A3CH-11    32.8740\n",
       "TCGA-EK-A2RE-01    38.0631\n",
       "TCGA-44-6778-01    37.2319\n",
       "TCGA-VM-A8C8-01    30.9533\n",
       "TCGA-AB-2863-03    44.9921\n",
       "TCGA-C8-A1HL-01    38.0519\n",
       "TCGA-EE-A17X-06    37.1678\n",
       "TCGA-YB-A89D-11    33.1059\n",
       "TCGA-05-4420-01    36.1801\n",
       "dtype: float64"
      ]
     },
     "execution_count": 18,
     "metadata": {},
     "output_type": "execute_result"
    }
   ],
   "source": [
    "numerical_cancer.apply(np.sum, axis=1)"
   ]
  },
  {
   "cell_type": "markdown",
   "metadata": {},
   "source": [
    "We can also define any arbitrary function using Python `lambda` functions"
   ]
  },
  {
   "cell_type": "code",
   "execution_count": 20,
   "metadata": {
    "collapsed": false
   },
   "outputs": [
    {
     "data": {
      "text/plain": [
       "PTEN     118.77921\n",
       "BRCA1     92.62913\n",
       "BRCA2     73.28310\n",
       "TP53     113.07395\n",
       "dtype: float64"
      ]
     },
     "execution_count": 20,
     "metadata": {},
     "output_type": "execute_result"
    }
   ],
   "source": [
    "# Lambda example:\n",
    "numerical_cancer.apply(lambda col: np.sum(col) + np.mean(col), axis=0)"
   ]
  },
  {
   "cell_type": "markdown",
   "metadata": {},
   "source": [
    "## Challenge task\n",
    "\n",
    "Using the ``Pandas`` and ``NumPy`` documentation, try to attempt this challenge. In this hypothetical scenario, we want to find patients whose expression of ``BRCA1`` and ``BRCA2`` are greater than the mean expression for those genes. Then, find the standard deviation of ``PTEN`` expression for those patients."
   ]
  }
 ],
 "metadata": {
  "kernelspec": {
   "display_name": "Python 3",
   "language": "python",
   "name": "python3"
  },
  "language_info": {
   "codemirror_mode": {
    "name": "ipython",
    "version": 3
   },
   "file_extension": ".py",
   "mimetype": "text/x-python",
   "name": "python",
   "nbconvert_exporter": "python",
   "pygments_lexer": "ipython3",
   "version": "3.6.0"
  }
 },
 "nbformat": 4,
 "nbformat_minor": 2
}
